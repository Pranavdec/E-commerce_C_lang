{
 "cells": [
  {
   "cell_type": "code",
   "execution_count": 10,
   "metadata": {},
   "outputs": [],
   "source": [
    "import ctypes"
   ]
  },
  {
   "cell_type": "code",
   "execution_count": 11,
   "metadata": {},
   "outputs": [],
   "source": [
    "my_lib = ctypes.CDLL('./mylib.so')"
   ]
  },
  {
   "cell_type": "code",
   "execution_count": 12,
   "metadata": {},
   "outputs": [],
   "source": [
    "# Set up the global variables\n",
    "class item_t(ctypes.Structure):\n",
    "    pass  # Forward declaration\n",
    "\n",
    "# Complete the definition of item_t\n",
    "item_t._fields_ = [\n",
    "    ('id', ctypes.c_int),\n",
    "    ('name', ctypes.c_char_p),\n",
    "    ('description', ctypes.c_char_p),\n",
    "    ('category', ctypes.c_char_p),\n",
    "    ('price', ctypes.c_float),\n",
    "    ('quantity', ctypes.c_int),\n",
    "    ('next', ctypes.POINTER(item_t)),\n",
    "    ('prev', ctypes.POINTER(item_t))\n",
    "]\n",
    "\n",
    "item_list_head = ctypes.POINTER(item_t).in_dll(my_lib, \"item_list_head\")\n",
    "item_count = ctypes.c_int.in_dll(my_lib, \"item_count\")\n",
    "\n",
    "\n",
    "my_lib.create_item.argtypes = [ctypes.c_char_p, ctypes.c_char_p, ctypes.c_char_p, ctypes.c_float, ctypes.c_int]\n",
    "my_lib.create_item.restype = None"
   ]
  },
  {
   "cell_type": "code",
   "execution_count": 13,
   "metadata": {},
   "outputs": [],
   "source": [
    "# Initialize global variables\n",
    "item_list_head = ctypes.POINTER(item_t)()\n",
    "item_count.value = 0\n",
    "\n",
    "# Call the function\n",
    "name = \"ItemName\".encode('utf-8')\n",
    "description = \"ItemDescription\".encode('utf-8')\n",
    "category = \"ItemCategory\".encode('utf-8')\n",
    "price = 100.0\n",
    "quantity = 10\n",
    "\n",
    "my_lib.create_item(name, description, category, ctypes.c_float(price), quantity)\n"
   ]
  },
  {
   "cell_type": "code",
   "execution_count": 15,
   "metadata": {},
   "outputs": [],
   "source": [
    "my_lib.print_item_list.argtypes = [ctypes.POINTER(item_t)]"
   ]
  },
  {
   "cell_type": "code",
   "execution_count": 16,
   "metadata": {},
   "outputs": [
    {
     "name": "stdout",
     "output_type": "stream",
     "text": [
      "Item ID: 0\n",
      "Item Name: d�-,�\n",
      "Item Description: d\n",
      "Item Category: d\n",
      "Item Price: 100.000000\n",
      "Item Quantity: 10\n",
      "\n",
      "Item ID: 0\n",
      "Item Name: ItemName\n",
      "Item Description: ItemDescription\n",
      "Item Category: ItemCategory\n",
      "Item Price: 100.000000\n",
      "Item Quantity: 10\n",
      "\n"
     ]
    },
    {
     "data": {
      "text/plain": [
       "10"
      ]
     },
     "execution_count": 16,
     "metadata": {},
     "output_type": "execute_result"
    }
   ],
   "source": [
    "my_lib.print_item_list(item_list_head)"
   ]
  },
  {
   "cell_type": "code",
   "execution_count": null,
   "metadata": {},
   "outputs": [],
   "source": []
  }
 ],
 "metadata": {
  "kernelspec": {
   "display_name": "Python 3",
   "language": "python",
   "name": "python3"
  },
  "language_info": {
   "codemirror_mode": {
    "name": "ipython",
    "version": 3
   },
   "file_extension": ".py",
   "mimetype": "text/x-python",
   "name": "python",
   "nbconvert_exporter": "python",
   "pygments_lexer": "ipython3",
   "version": "3.12.0"
  }
 },
 "nbformat": 4,
 "nbformat_minor": 2
}
